{
 "cells": [
  {
   "cell_type": "code",
   "execution_count": 11,
   "metadata": {},
   "outputs": [],
   "source": [
    "# Import preliminaries\n",
    "import requests\n",
    "import lxml.html as lh\n",
    "import pandas as pd"
   ]
  },
  {
   "cell_type": "code",
   "execution_count": 12,
   "metadata": {},
   "outputs": [
    {
     "data": {
      "text/plain": [
       "<Element html at 0x113948318>"
      ]
     },
     "execution_count": 12,
     "metadata": {},
     "output_type": "execute_result"
    }
   ],
   "source": [
    "#Create a handle, page, to handle the contents of the website\n",
    "url='https://wallethub.com/edu/most-and-least-charitable-states/8555/'\n",
    "page = requests.get(url)\n",
    "\n",
    "#Store the contents of the website under doc\n",
    "doc = lh.fromstring(page.content)\n",
    "\n",
    "#Parse data that are stored between <tr>..</tr> of HTML\n",
    "tr_elements = doc.xpath('//tr')\n",
    "\n",
    "doc"
   ]
  },
  {
   "cell_type": "code",
   "execution_count": 8,
   "metadata": {},
   "outputs": [],
   "source": [
    "text = []\n",
    "ranking = []\n",
    "state = []\n",
    "score = []\n",
    "volunteer = []\n",
    "giving = []\n",
    "\n",
    "# Interate data from the second row (first row of the table is column name)\n",
    "for i in range(1,len(tr_elements)):\n",
    "    rownum=tr_elements[i]\n",
    "    \n",
    "    # j is the column index\n",
    "    j=0\n",
    "    \n",
    "    #Iterate through each element of the row and append to corresponding lists\n",
    "    for _ in rownum.iterchildren():\n",
    "        data=_.text_content()\n",
    "        \n",
    "        if j%5 == 0:\n",
    "            ranking.append(data)\n",
    "        if j%5 == 1:\n",
    "            state.append(data)\n",
    "        if j%5 == 2:\n",
    "            score.append(data)\n",
    "        if j%5 == 3:\n",
    "            volunteer.append(data)\n",
    "        if j%5 == 4:\n",
    "            giving.append(data)"
   ]
  },
  {
   "cell_type": "code",
   "execution_count": 9,
   "metadata": {},
   "outputs": [],
   "source": [
    "data_dict = {'Overall Charitable Rank': ranking,\n",
    "             'State': state, \n",
    "             'Total Charitable Score': score, \n",
    "             'Volunteering & Service Rank': volunteer, \n",
    "             'Charitable Giving Rank': giving}\n",
    "df=pd.DataFrame(data_dict)"
   ]
  },
  {
   "cell_type": "code",
   "execution_count": 10,
   "metadata": {},
   "outputs": [
    {
     "data": {
      "text/html": [
       "<div>\n",
       "<style scoped>\n",
       "    .dataframe tbody tr th:only-of-type {\n",
       "        vertical-align: middle;\n",
       "    }\n",
       "\n",
       "    .dataframe tbody tr th {\n",
       "        vertical-align: top;\n",
       "    }\n",
       "\n",
       "    .dataframe thead th {\n",
       "        text-align: right;\n",
       "    }\n",
       "</style>\n",
       "<table border=\"1\" class=\"dataframe\">\n",
       "  <thead>\n",
       "    <tr style=\"text-align: right;\">\n",
       "      <th></th>\n",
       "      <th>Overall Charitable Rank</th>\n",
       "      <th>State</th>\n",
       "      <th>Total Charitable Score</th>\n",
       "      <th>Volunteering &amp; Service Rank</th>\n",
       "      <th>Charitable Giving Rank</th>\n",
       "    </tr>\n",
       "  </thead>\n",
       "  <tbody>\n",
       "  </tbody>\n",
       "</table>\n",
       "</div>"
      ],
      "text/plain": [
       "Empty DataFrame\n",
       "Columns: [Overall Charitable Rank, State, Total Charitable Score, Volunteering & Service Rank, Charitable Giving Rank]\n",
       "Index: []"
      ]
     },
     "execution_count": 10,
     "metadata": {},
     "output_type": "execute_result"
    }
   ],
   "source": [
    "df.head()"
   ]
  },
  {
   "cell_type": "code",
   "execution_count": 13,
   "metadata": {},
   "outputs": [],
   "source": [
    "df.to_csv('charitable_ranking.csv')"
   ]
  },
  {
   "cell_type": "code",
   "execution_count": null,
   "metadata": {},
   "outputs": [],
   "source": []
  }
 ],
 "metadata": {
  "kernelspec": {
   "display_name": "Python 3",
   "language": "python",
   "name": "python3"
  },
  "language_info": {
   "codemirror_mode": {
    "name": "ipython",
    "version": 3
   },
   "file_extension": ".py",
   "mimetype": "text/x-python",
   "name": "python",
   "nbconvert_exporter": "python",
   "pygments_lexer": "ipython3",
   "version": "3.7.3"
  }
 },
 "nbformat": 4,
 "nbformat_minor": 2
}
